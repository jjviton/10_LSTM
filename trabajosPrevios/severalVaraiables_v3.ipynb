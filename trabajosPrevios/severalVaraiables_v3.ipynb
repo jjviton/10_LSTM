{
 "cells": [
  {
   "cell_type": "code",
   "execution_count": 1,
   "id": "0e5daf44",
   "metadata": {},
   "outputs": [
    {
     "data": {
      "text/plain": [
       "'\\n@author: J3viton\\nCode tested on Tensorflow: 2.2.0\\n    Keras: 2.4.3\\ndataset: https://finance.yahoo.com/quote/GE/history/\\nAlso try S&P: https://finance.yahoo.com/quote/%5EGSPC/history?p=%5EGSPC\\n'"
      ]
     },
     "execution_count": 1,
     "metadata": {},
     "output_type": "execute_result"
    }
   ],
   "source": [
    "# https://youtu.be/tepxdcepTbY\n",
    "\"\"\"\n",
    "@author: J3viton\n",
    "Code tested on Tensorflow: 2.2.0\n",
    "    Keras: 2.4.3\n",
    "dataset: https://finance.yahoo.com/quote/GE/history/\n",
    "Also try S&P: https://finance.yahoo.com/quote/%5EGSPC/history?p=%5EGSPC\n",
    "\"\"\"\n"
   ]
  },
  {
   "cell_type": "markdown",
   "id": "6be120b5-d7d0-42c8-a747-1f45fe9b2f3c",
   "metadata": {},
   "source": [
    "### Notas:\n",
    "        .- Unir pdf https://www.ilovepdf.com/merge_pdf"
   ]
  },
  {
   "cell_type": "code",
   "execution_count": 2,
   "id": "3a6f3aa7",
   "metadata": {},
   "outputs": [],
   "source": [
    "import numpy as np\n",
    "from tensorflow.keras.models import Sequential\n",
    "from tensorflow.keras.layers import LSTM\n",
    "from tensorflow.keras.layers import Dense, Dropout\n",
    "import pandas as pd\n",
    "from matplotlib import pyplot as plt\n",
    "from sklearn.preprocessing import StandardScaler\n",
    "from sklearn.model_selection import train_test_split \n",
    "import seaborn as sns\n"
   ]
  },
  {
   "cell_type": "code",
   "execution_count": 3,
   "id": "c868832d-9ab9-4a1d-9a89-40b9463cbc91",
   "metadata": {},
   "outputs": [
    {
     "name": "stdout",
     "output_type": "stream",
     "text": [
      "formato libreria\n",
      "version:  1\n"
     ]
    }
   ],
   "source": [
    "import generarCSV as fileCSV\n",
    "import datetime as dt\n",
    "\n",
    "mycsv = fileCSV.dataGenClass()    #Creamos la clase"
   ]
  },
  {
   "cell_type": "code",
   "execution_count": 4,
   "id": "e995f6a9-1540-45a7-8038-1607b7746189",
   "metadata": {},
   "outputs": [],
   "source": [
    "import sys\n",
    "import os\n",
    "sys.path.insert(0,\"C:\\\\Users\\\\INNOVACION\\\\Documents\\\\J3\\\\100.- cursos\\\\Quant_udemy\\\\programas\\\\Projects\\\\libreria\")\n",
    "import quant_j3_lib as quant_j"
   ]
  },
  {
   "cell_type": "markdown",
   "id": "8ae5af2b-7de4-422e-b9d4-b824f4b23642",
   "metadata": {},
   "source": [
    "### Instrumentos"
   ]
  },
  {
   "cell_type": "code",
   "execution_count": 5,
   "id": "77d4c2b6-1548-4d96-98e6-dcfd54328e09",
   "metadata": {},
   "outputs": [],
   "source": [
    "tickers = ['fer.mc','COL.mc','IBE.mc','NTGY.mc','SAB.mc','ACX.mc','PHM.mc','SAN.mc','MRL.mc','TEF.mc','AMS.mc','VIS.mc','MTS.mc','MAP.mc','CLNX.mc','BBVA.mc','CABK.mc','MEL.mc','AENA.mc','BKT.mc','RED.mc','FDR.mc','ACS.mc','ITX.mc','ENG.mc','ANA.mc','ELE.mc','GRF.mc','IAG.mc','SGRE.mc']\n",
    "  "
   ]
  },
  {
   "cell_type": "code",
   "execution_count": 6,
   "id": "ed834890-f233-4d4f-9778-4f0d8342e41a",
   "metadata": {},
   "outputs": [
    {
     "name": "stdout",
     "output_type": "stream",
     "text": [
      "[*********************100%***********************]  1 of 1 completed\n",
      "Coefficients: \n",
      " [0.0175006]\n",
      "Independent term: \n",
      " 8.362235252155976\n",
      "                         Close   EMA_200     EMA_50    EMA_100     EMA_30  \\\n",
      "Date       position                                                         \n",
      "2015-04-09 198.0     11.103062  9.406938  10.448884   9.915656  10.749676   \n",
      "2015-04-10 199.0     11.323361  9.426007  10.483178   9.943532  10.786688   \n",
      "2015-04-13 200.0     11.464352  9.446289  10.521655   9.973647  10.830408   \n",
      "2015-04-14 201.0     11.455541  9.466282  10.558278  10.002991  10.870739   \n",
      "2015-04-15 202.0     11.543660  9.486952  10.596921  10.033500  10.914153   \n",
      "\n",
      "                        Kalman       hull  \n",
      "Date       position                        \n",
      "2015-04-09 198.0     10.912208  11.123350  \n",
      "2015-04-10 199.0     10.913272  11.146333  \n",
      "2015-04-13 200.0     10.910236  11.200699  \n",
      "2015-04-14 201.0     10.901658  11.269652  \n",
      "2015-04-15 202.0     10.887542  11.349678  \n"
     ]
    }
   ],
   "source": [
    "#### FECHAS\n",
    "#start =dt.datetime(2000,1,1)\n",
    "##startD =dt.datetime.today() - dt.timedelta(days=5*250)    #un año tiene 250 sesiones.\n",
    "        \n",
    "startD = dt.datetime(2002,1,10)\n",
    "endD= dt.datetime.today()  - dt.timedelta(days=1)        #Quito hoy para no ver el valor al ejecutar antes del cierre\n",
    "#end = '2021-9-19'\n",
    "\n",
    "instrumento = 'mrl.mc' ##tickers[2]  ##'TEF.MC'\n",
    "df=mycsv.creaCSV_01(instrumento, startD, endD)\n"
   ]
  },
  {
   "cell_type": "markdown",
   "id": "1ae345df-2a54-4a86-a2c3-9d5671733341",
   "metadata": {},
   "source": [
    "#Read the csv file\n",
    "#df = pd.read_csv('GE.csv')\n",
    "df= pd.read_csv('telefonica_01.csv')    ### 'rovi_05.csv''zara_02.csv'telefonica_01.csv\n",
    "print(df.tail()) #7 columns, including the Date. \n"
   ]
  },
  {
   "cell_type": "markdown",
   "id": "e57670c8",
   "metadata": {},
   "source": [
    "#Separate dates for future plotting\n",
    "train_dates = pd.to_datetime(df['Date'])\n",
    "print(train_dates.tail(5)) #Check last few dates. "
   ]
  },
  {
   "cell_type": "code",
   "execution_count": 7,
   "id": "ae16e892",
   "metadata": {},
   "outputs": [
    {
     "data": {
      "text/plain": [
       "(1977, 7)"
      ]
     },
     "execution_count": 7,
     "metadata": {},
     "output_type": "execute_result"
    }
   ],
   "source": [
    "df.shape"
   ]
  },
  {
   "cell_type": "code",
   "execution_count": 8,
   "id": "c6dfa849",
   "metadata": {},
   "outputs": [
    {
     "name": "stdout",
     "output_type": "stream",
     "text": [
      "['Close', 'EMA_200', 'EMA_50', 'EMA_100', 'EMA_30', 'Kalman', 'hull']\n"
     ]
    }
   ],
   "source": [
    "#Variables for training\n",
    "cols = list(df)[0:8]  #df.columns.tolist()\n",
    "#Date and volume columns are not used in training. \n",
    "print(cols) #['Open', 'High', 'Low', 'Close', 'Adj Close']"
   ]
  },
  {
   "cell_type": "code",
   "execution_count": 9,
   "id": "39268708",
   "metadata": {},
   "outputs": [
    {
     "data": {
      "text/plain": [
       "'Close'"
      ]
     },
     "execution_count": 9,
     "metadata": {},
     "output_type": "execute_result"
    }
   ],
   "source": [
    "cols[0]"
   ]
  },
  {
   "cell_type": "code",
   "execution_count": 10,
   "id": "100d22ee",
   "metadata": {},
   "outputs": [],
   "source": [
    "hull_col=6"
   ]
  },
  {
   "cell_type": "code",
   "execution_count": 11,
   "id": "32c27c24",
   "metadata": {},
   "outputs": [
    {
     "data": {
      "text/plain": [
       "Text(0.5, 1.0, 'mrl.mc')"
      ]
     },
     "execution_count": 11,
     "metadata": {},
     "output_type": "execute_result"
    },
    {
     "data": {
      "image/png": "[encoded data removed]",
      "text/plain": [
       "<Figure size 640x480 with 1 Axes>"
      ]
     },
     "metadata": {},
     "output_type": "display_data"
    }
   ],
   "source": [
    "#New dataframe with only training data - 5 columns\n",
    "df_for_training = df[cols].astype(float)\n",
    "\n",
    "df_for_plot=df_for_training.tail(500)\n",
    "df_for_plot.plot.line()\n",
    "plt.title(instrumento)"
   ]
  },
  {
   "cell_type": "code",
   "execution_count": 12,
   "id": "41865ced",
   "metadata": {},
   "outputs": [
    {
     "data": {
      "text/plain": [
       "array([[ 0.48366787, -0.78545093,  0.06176714, ...,  0.26311057,\n",
       "         0.37869897,  0.49202764],\n",
       "       [ 0.62311955, -0.76955961,  0.08515779, ...,  0.28761888,\n",
       "         0.37940199,  0.50646536],\n",
       "       [ 0.71236763, -0.7526573 ,  0.11140239, ...,  0.31656922,\n",
       "         0.37739647,  0.54061706],\n",
       "       ...,\n",
       "       [-0.93937543, -0.96677884, -1.0187489 , ..., -0.94998265,\n",
       "        -0.92843139, -0.87050266],\n",
       "       [-0.9710254 , -0.96996596, -1.0203466 , ..., -0.95479662,\n",
       "        -0.92989032, -0.90269295],\n",
       "       [-0.9520353 , -0.9728726 , -1.02107921, ..., -0.9580184 ,\n",
       "        -0.93051758, -0.92989947]])"
      ]
     },
     "execution_count": 12,
     "metadata": {},
     "output_type": "execute_result"
    }
   ],
   "source": [
    "### ESTUDIA como funciona este tema del scaler... deberia ser entre 0 y 1, no?\n",
    "\n",
    "#LSTM uses sigmoid and tanh that are sensitive to magnitude so values need to be normalized\n",
    "# normalize the dataset\n",
    "#Estándariza los datos eliminando la media y escalando los datos de forma que su varianza sea igual a 1.\n",
    "\n",
    "scaler = StandardScaler()\n",
    "scaler = scaler.fit(df_for_training)\n",
    "df_for_training_scaled = scaler.transform(df_for_training)\n",
    "df_for_training_scaled\n"
   ]
  },
  {
   "cell_type": "code",
   "execution_count": 64,
   "id": "6cb1748a",
   "metadata": {},
   "outputs": [
    {
     "data": {
      "text/plain": [
       "(1977, 7)"
      ]
     },
     "execution_count": 64,
     "metadata": {},
     "output_type": "execute_result"
    }
   ],
   "source": [
    "df_for_training_scaled.shape\n",
    "\n"
   ]
  },
  {
   "cell_type": "markdown",
   "id": "b2ca66ad",
   "metadata": {},
   "source": [
    "df_data = pd.DataFrame(df_for_training_scaled ,columns = ['close','hull','50','100','30'])\n",
    "df_data.to_excel(\"telefonica_scaled.xlsx\", \n",
    "          index=True,\n",
    "          sheet_name=\"data\")"
   ]
  },
  {
   "cell_type": "code",
   "execution_count": null,
   "id": "7581f655",
   "metadata": {},
   "outputs": [],
   "source": []
  },
  {
   "cell_type": "code",
   "execution_count": 14,
   "id": "98db2f4e",
   "metadata": {},
   "outputs": [],
   "source": [
    "#As required for LSTM networks, we require to reshape an input data into n_samples x timesteps x n_features. \n",
    "#In this example, the n_features is 5. We will make timesteps = 14 (past days data used for training). \n",
    "\n",
    "#Empty lists to be populated using formatted training data\n",
    "trainXX = []\n",
    "trainYY = []\n",
    "trainX_test=[]\n",
    "\n",
    "n_future = 1   # origina=1,   Number of days we want to look into the future based on the past days.\n",
    "n_past = 14  # Number of past days we want to use to predict the future.  FILAS"
   ]
  },
  {
   "cell_type": "code",
   "execution_count": 15,
   "id": "f6c51bcb",
   "metadata": {},
   "outputs": [],
   "source": [
    "\n",
    "#Reformat input data into a shape: (n_samples x timesteps x n_features)\n",
    "#In my example, my df_for_training_scaled has a shape (12823, 5)\n",
    "#12823 refers to the number of data points and 5 refers to the columns (multi-variables).\n",
    "for i in range(n_past, len(df_for_training_scaled) - n_future +1):\n",
    "    ## en este caso Append añade un elemento que es un array de dos dimensiones.\n",
    "    trainXX.append( df_for_training_scaled[ i - n_past : i ,  0:df_for_training.shape[1]])  #n_past filas X 5 columnas (feautures)\n",
    "    #slicing: fila desde (i-n_past) hasta i///// Columna desde 0: 5 =>(df_for_training.shape[1])\n",
    "    \n",
    "    trainYY.append(df_for_training_scaled[i + n_future - 1:i + n_future, hull_col])  ##[17:18,0] un posicoin de la fila para la columna 0\n",
    "    ### el 4 es la caracteritica elegida Close//EMA//EMA100//\n"
   ]
  },
  {
   "cell_type": "markdown",
   "id": "c2d595d2",
   "metadata": {},
   "source": [
    "## separar Training y TEST"
   ]
  },
  {
   "cell_type": "code",
   "execution_count": 16,
   "id": "e0272881",
   "metadata": {},
   "outputs": [],
   "source": [
    "trainX, trainX_test, trainY, trainY_test  = train_test_split(trainXX, trainYY, test_size = 0.15,shuffle = False)\n"
   ]
  },
  {
   "cell_type": "markdown",
   "id": "0e1da8a1",
   "metadata": {},
   "source": [
    "trainX_test[-1,-1, hull_col]"
   ]
  },
  {
   "cell_type": "markdown",
   "id": "2f04eda0",
   "metadata": {},
   "source": [
    "trainY_test[-1]"
   ]
  },
  {
   "cell_type": "raw",
   "id": "1d6d6ca9",
   "metadata": {},
   "source": []
  },
  {
   "cell_type": "code",
   "execution_count": 17,
   "id": "118bcbf8",
   "metadata": {},
   "outputs": [
    {
     "name": "stdout",
     "output_type": "stream",
     "text": [
      "trainX shape == (1668, 14, 7).\n",
      "trainY shape == (1668, 1).\n",
      "trainX_test shape == (295, 14, 7).\n"
     ]
    },
    {
     "data": {
      "text/plain": [
       "'\\ntenemos un array de 238 elementos en el que cada elemento es un array de 14x5\\n'"
      ]
     },
     "execution_count": 17,
     "metadata": {},
     "output_type": "execute_result"
    }
   ],
   "source": [
    "\n",
    "trainX, trainY = np.array(trainX), np.array(trainY)\n",
    "trainX_test, trainY_test = np.array(trainX_test), np.array(trainY_test)\n",
    "\n",
    "print('trainX shape == {}.'.format(trainX.shape))\n",
    "print('trainY shape == {}.'.format(trainY.shape))\n",
    "print('trainX_test shape == {}.'.format(trainX_test.shape))\n",
    "\n",
    "\"\"\"\n",
    "tenemos un array de 238 elementos en el que cada elemento es un array de 14x5\n",
    "\"\"\""
   ]
  },
  {
   "cell_type": "markdown",
   "id": "7bd09a91",
   "metadata": {},
   "source": [
    "trainX_test"
   ]
  },
  {
   "cell_type": "markdown",
   "id": "3e715c3e",
   "metadata": {},
   "source": [
    "trainX[0][13][4]"
   ]
  },
  {
   "cell_type": "markdown",
   "id": "67b62d81",
   "metadata": {},
   "source": [
    "df_data = pd.DataFrame(trainX[-1,-14:,hull_col], columns = ['hull'])\n",
    "df_data.to_excel(\"telefonica_010.xlsx\", \n",
    "          index=True,\n",
    "          sheet_name=\"data\")\n"
   ]
  },
  {
   "cell_type": "code",
   "execution_count": 18,
   "id": "f8118455",
   "metadata": {},
   "outputs": [
    {
     "data": {
      "text/plain": [
       "array([-0.80135968, -0.75878442, -0.70924551, -0.6549257 , -0.60972279,\n",
       "       -0.57595183, -0.55850344, -0.55191104, -0.55243715, -0.56243982,\n",
       "       -0.57401708, -0.58118922, -0.58343071, -0.58668855])"
      ]
     },
     "execution_count": 18,
     "metadata": {},
     "output_type": "execute_result"
    }
   ],
   "source": [
    "#trainX[-1,-14:,hull_col]\n",
    "trainX[-1,-n_past:,hull_col]  # cogemos el ultimo tramo de datos del grupo n_past\n"
   ]
  },
  {
   "cell_type": "code",
   "execution_count": 19,
   "id": "f5757561",
   "metadata": {},
   "outputs": [
    {
     "data": {
      "text/plain": [
       "array([-0.58915211])"
      ]
     },
     "execution_count": 19,
     "metadata": {},
     "output_type": "execute_result"
    }
   ],
   "source": [
    "trainY[-1]"
   ]
  },
  {
   "cell_type": "code",
   "execution_count": 20,
   "id": "24963394",
   "metadata": {},
   "outputs": [],
   "source": [
    "\n",
    "#In my case, trainX has a shape (12809, 14, 5). \n",
    "#12809 because we are looking back 14 days (12823 - 14 = 12809). \n",
    "#Remember that we cannot look back 14 days until we get to the 15th day. \n",
    "#Also, trainY has a shape (12809, 1). Our model only predicts a single value, but \n",
    "#it needs multiple variables (5 in my example) to make this prediction. \n",
    "#This is why we can only predict a single day after our training, the day after where our data ends.\n",
    "#To predict more days in future, we need all the 5 variables which we do not have. \n",
    "#We need to predict all variables if we want to do that. "
   ]
  },
  {
   "cell_type": "code",
   "execution_count": null,
   "id": "919270af",
   "metadata": {},
   "outputs": [],
   "source": []
  },
  {
   "cell_type": "code",
   "execution_count": 21,
   "id": "d15ea222",
   "metadata": {},
   "outputs": [
    {
     "name": "stdout",
     "output_type": "stream",
     "text": [
      "Model: \"sequential\"\n",
      "_________________________________________________________________\n",
      " Layer (type)                Output Shape              Param #   \n",
      "=================================================================\n",
      " lstm (LSTM)                 (None, 14, 128)           69632     \n",
      "                                                                 \n",
      " lstm_1 (LSTM)               (None, 64)                49408     \n",
      "                                                                 \n",
      " dropout (Dropout)           (None, 64)                0         \n",
      "                                                                 \n",
      " dense (Dense)               (None, 1)                 65        \n",
      "                                                                 \n",
      "=================================================================\n",
      "Total params: 119,105\n",
      "Trainable params: 119,105\n",
      "Non-trainable params: 0\n",
      "_________________________________________________________________\n",
      "Epoch 1/3\n",
      "89/89 [==============================] - 13s 48ms/step - loss: 0.2005 - val_loss: 0.0250\n",
      "Epoch 2/3\n",
      "89/89 [==============================] - 3s 37ms/step - loss: 0.0395 - val_loss: 0.0980\n",
      "Epoch 3/3\n",
      "89/89 [==============================] - 3s 38ms/step - loss: 0.0289 - val_loss: 0.0092\n"
     ]
    },
    {
     "data": {
      "text/plain": [
       "<matplotlib.legend.Legend at 0x18dffa719a0>"
      ]
     },
     "execution_count": 21,
     "metadata": {},
     "output_type": "execute_result"
    },
    {
     "data": {
      "image/png": "[encoded data removed]",
      "text/plain": [
       "<Figure size 640x480 with 1 Axes>"
      ]
     },
     "metadata": {},
     "output_type": "display_data"
    }
   ],
   "source": [
    "# define the Autoencoder model\n",
    "\n",
    "model = Sequential()\n",
    "model.add(LSTM(128, activation='relu', input_shape=(trainX.shape[1], trainX.shape[2]), return_sequences=True)) #64\n",
    "model.add(LSTM(64, activation='relu', return_sequences=False))   #32\n",
    "model.add(Dropout(0.2))\n",
    "model.add(Dense(trainY.shape[1]))\n",
    "\n",
    "model.compile(optimizer='adam', loss='mse')\n",
    "model.summary()\n",
    "\n",
    "\n",
    "# fit the model\n",
    "history = model.fit(trainX, trainY, epochs=3, batch_size=16, validation_split=0.15, verbose=1)\n",
    "\n",
    "plt.plot(history.history['loss'], label='Training loss')\n",
    "plt.plot(history.history['val_loss'], label='Validation loss')\n",
    "plt.legend()"
   ]
  },
  {
   "cell_type": "code",
   "execution_count": 22,
   "id": "2c55090e",
   "metadata": {},
   "outputs": [
    {
     "name": "stdout",
     "output_type": "stream",
     "text": [
      "1/1 [==============================] - 2s 2s/step\n"
     ]
    }
   ],
   "source": [
    "\n",
    "#Predicting...\n",
    "#Libraries that will help us extract only business days in the US.\n",
    "#Otherwise our dates would be wrong when we look back (or forward).  \n",
    "#from pandas.tseries.holiday import USFederalHolidayCalendar\n",
    "#from pandas.tseries.offsets import CustomBusinessDay\n",
    "\n",
    "#us_bd = CustomBusinessDay(calendar=USFederalHolidayCalendar())\n",
    "#Remember that we can only predict one day in future as our model needs 5 variables\n",
    "#as inputs for prediction. We only have all 5 variables until the last day in our dataset.\n",
    "\n",
    "\n",
    "##n_days_for_prediction=10  #let us predict past 15 days\n",
    "\n",
    "##predict_period_dates = pd.date_range(list(train_dates)[-n_past], periods=n_past, freq='D').tolist()\n",
    "##print(predict_period_dates)\n",
    "\n",
    "#Make prediction\n",
    "prediction = model.predict(trainX[0:n_past])\n",
    "#prediction = model.predict(trainX[-n_days_for_prediction:]) #shape = (n, 1) where n is the n_days_for_prediction\n",
    "                                                            # desde -n hasta el final. Cada elemento es un array bidimensional\n",
    "#Pido una predcicion para un array de fechas, me devuelve la predicion para cada una\n",
    "\n",
    "#Nos vamos n_daysforPredcition atras y calculamos la precidion a n_future (6) days despues."
   ]
  },
  {
   "cell_type": "code",
   "execution_count": 23,
   "id": "7375654d",
   "metadata": {},
   "outputs": [
    {
     "name": "stdout",
     "output_type": "stream",
     "text": [
      "[[0.0542155 ]\n",
      " [0.03388005]\n",
      " [0.02865462]\n",
      " [0.03712892]\n",
      " [0.04774564]\n",
      " [0.0501004 ]\n",
      " [0.04386055]\n",
      " [0.03981433]\n",
      " [0.03535964]\n",
      " [0.03142079]\n",
      " [0.02801258]\n",
      " [0.02582598]\n",
      " [0.02013274]\n",
      " [0.0133266 ]]\n"
     ]
    }
   ],
   "source": [
    "#print (trainX[-2:])  # dos ultimos elementos. Cada elemento es un array de 15x5\n",
    "print (prediction)"
   ]
  },
  {
   "cell_type": "code",
   "execution_count": 24,
   "id": "8fed20fc",
   "metadata": {},
   "outputs": [
    {
     "data": {
      "text/plain": [
       "array([[-0.70924551],\n",
       "       [-0.6549257 ],\n",
       "       [-0.60972279],\n",
       "       [-0.57595183],\n",
       "       [-0.55850344],\n",
       "       [-0.55191104],\n",
       "       [-0.55243715],\n",
       "       [-0.56243982],\n",
       "       [-0.57401708],\n",
       "       [-0.58118922],\n",
       "       [-0.58343071],\n",
       "       [-0.58668855],\n",
       "       [-0.58915211]])"
      ]
     },
     "execution_count": 24,
     "metadata": {},
     "output_type": "execute_result"
    }
   ],
   "source": [
    "trainY[-n_past+n_future:]"
   ]
  },
  {
   "cell_type": "code",
   "execution_count": 25,
   "id": "754174d8",
   "metadata": {},
   "outputs": [],
   "source": [
    "xx=(range(n_past))\n",
    "\n",
    "pred= prediction\n",
    "pred.shape = (n_past)\n",
    "real=trainY[-n_past:]\n",
    "real.shape = (n_past)\n",
    "\n",
    "#sns.lineplot(x=xx, y=pred, color='lightgreen')\n",
    "#sns.lineplot(x=xx, y=real)"
   ]
  },
  {
   "cell_type": "markdown",
   "id": "207cb3db",
   "metadata": {},
   "source": [
    "real"
   ]
  },
  {
   "cell_type": "code",
   "execution_count": 26,
   "id": "079811d7",
   "metadata": {},
   "outputs": [
    {
     "data": {
      "text/plain": [
       "array([0.0542155 , 0.03388005, 0.02865462, 0.03712892, 0.04774564,\n",
       "       0.0501004 , 0.04386055, 0.03981433, 0.03535964, 0.03142079,\n",
       "       0.02801258, 0.02582598, 0.02013274, 0.0133266 ], dtype=float32)"
      ]
     },
     "execution_count": 26,
     "metadata": {},
     "output_type": "execute_result"
    }
   ],
   "source": [
    "pred"
   ]
  },
  {
   "cell_type": "markdown",
   "id": "a4811cee",
   "metadata": {},
   "source": [
    "trainX.shape"
   ]
  },
  {
   "cell_type": "markdown",
   "id": "7a201771",
   "metadata": {},
   "source": [
    "### VISUALIZAION DATOS TEST  (esto no son lo datos de test, TrainX_test deberia ser)"
   ]
  },
  {
   "cell_type": "markdown",
   "id": "b58fba9f",
   "metadata": {},
   "source": [
    "pred_gap = np.zeros(n_past+n_future)\n",
    "muestra_gap =[]\n",
    "xx=[]\n",
    "\n",
    "muestreo=50  # minimo 20\n",
    "gapmuestras=np.zeros(muestreo-n_past)\n",
    "gapprevion=np.zeros(n_future)\n",
    "gappostprevison= np.zeros(muestreo-n_future-n_past)\n",
    "\n",
    "for ii in range (len(gapmuestras)):\n",
    "    gapmuestras[ii] = np.nan\n",
    "for ii in range (len(gapprevion)):\n",
    "    gapprevion[ii] = np.nan\n",
    "for ii in range (len(gappostprevison)):\n",
    "    gappostprevison[ii] = np.nan \n",
    "for ii in range (len(pred_gap)):\n",
    "    pred_gap[ii] = np.nan      \n",
    "\n",
    "\n",
    "inicio= np.zeros(n_future+n_past)    \n",
    "\n",
    "origen=n_past+n_future\n",
    "\n",
    "\n",
    "for i in range(n_past, len(trainX)-100, muestreo):\n",
    "    \n",
    "    prediction = model.predict(trainX[i-n_past:i])\n",
    "    prediction.shape = (n_past)   #me devuleve 15//n_past previsiones a 6//n_future dias vista\n",
    "    pred_gap=np.concatenate((pred_gap, prediction), axis=0)  #predcicion son n_past... en un futuro de n_futre muestras\n",
    "    pred_gap=np.concatenate((pred_gap, gapmuestras), axis=0)\n",
    "\n",
    "    ##xx=(trainX[i-n_past:i,0,hull_col])\n",
    "    xx=(trainX[i-n_past,-n_past:,hull_col])\n",
    "    \n",
    "    ##xx= trainXX[-1:, -n_past:, hull_col]  # coje el ultimo tramo de datos \n",
    "    xx.shape = ( n_past)\n",
    "    \n",
    "    muestra_gap=np.concatenate((muestra_gap, xx  ), axis=0)\n",
    "    muestra_gap=np.concatenate((muestra_gap, gapmuestras), axis=0)\n",
    "\n",
    "    #print(trainX[i:i+n_days_for_prediction])\n",
    "    ##print(xx)\n",
    "    #fake =input()\n"
   ]
  },
  {
   "cell_type": "markdown",
   "id": "9bcbdc40-a6a1-4a27-be2f-2b54d155b4cc",
   "metadata": {},
   "source": [
    "%matplotlib notebook"
   ]
  },
  {
   "cell_type": "markdown",
   "id": "8364fb06",
   "metadata": {},
   "source": [
    "trainX_test.shape\n"
   ]
  },
  {
   "cell_type": "markdown",
   "id": "424bcc24",
   "metadata": {},
   "source": [
    "#sns.lineplot(y=pred_gap, color='lightgreen')\n",
    "\n",
    "yy2y=trainX[0:(len(trainX)),0,0]\n",
    "#yy2y.shape = (len(df_for_training_scaled[0]) )\n",
    "plt.plot(yy2y, label='curva Close',color='lightblue')\n",
    "\n",
    "yyy=trainX[0:(len(trainX)),0,hull_col]        ## yyy=trainXX[-1:,-n_past:,hull_col]    \n",
    "\n",
    "\n",
    "\n",
    "\"\"\"\n",
    "##xx=(trainX[i-n_past:i,0,hull_col])\n",
    "xx=(trainX[i-n_past,-n_past:,hull_col])\n",
    "\n",
    "##xx= trainXX[-1:, -n_past:, hull_col]  # coje el ultimo tramo de datos \n",
    "xx.shape = ( n_past)\n",
    "////////////////////\n",
    "\"\"\"\n",
    "\n",
    "#yyy.shape = (df_for_training_scaled.shape[0] )\n",
    "plt.plot(yyy, label='curva REAL',color='pink')\n",
    "\n",
    "plt.plot(muestra_gap, color='red',label='datos origen Prediccion')\n",
    "plt.plot(pred_gap, color='lightgreen', label='Predicción')\n",
    "\n",
    "\n",
    "\n",
    "plt.legend()\n",
    "plt.show()"
   ]
  },
  {
   "cell_type": "code",
   "execution_count": 27,
   "id": "12a8fc96",
   "metadata": {},
   "outputs": [],
   "source": [
    "#plt.savefig('lstm3.jpg',dpi=600)"
   ]
  },
  {
   "cell_type": "code",
   "execution_count": 28,
   "id": "9e7be77b",
   "metadata": {},
   "outputs": [],
   "source": [
    "##k=input()"
   ]
  },
  {
   "cell_type": "markdown",
   "id": "0a5ff980",
   "metadata": {},
   "source": [
    "### mostramos los Datos de TEST\n"
   ]
  },
  {
   "cell_type": "code",
   "execution_count": 29,
   "id": "16ca0013",
   "metadata": {},
   "outputs": [
    {
     "data": {
      "text/html": [
       "<div>\n",
       "<style scoped>\n",
       "    .dataframe tbody tr th:only-of-type {\n",
       "        vertical-align: middle;\n",
       "    }\n",
       "\n",
       "    .dataframe tbody tr th {\n",
       "        vertical-align: top;\n",
       "    }\n",
       "\n",
       "    .dataframe thead th {\n",
       "        text-align: right;\n",
       "    }\n",
       "</style>\n",
       "<table border=\"1\" class=\"dataframe\">\n",
       "  <thead>\n",
       "    <tr style=\"text-align: right;\">\n",
       "      <th></th>\n",
       "      <th></th>\n",
       "      <th>Close</th>\n",
       "      <th>EMA_200</th>\n",
       "      <th>EMA_50</th>\n",
       "      <th>EMA_100</th>\n",
       "      <th>EMA_30</th>\n",
       "      <th>Kalman</th>\n",
       "      <th>hull</th>\n",
       "    </tr>\n",
       "    <tr>\n",
       "      <th>Date</th>\n",
       "      <th>position</th>\n",
       "      <th></th>\n",
       "      <th></th>\n",
       "      <th></th>\n",
       "      <th></th>\n",
       "      <th></th>\n",
       "      <th></th>\n",
       "      <th></th>\n",
       "    </tr>\n",
       "  </thead>\n",
       "  <tbody>\n",
       "    <tr>\n",
       "      <th>2022-12-19</th>\n",
       "      <th>2170.0</th>\n",
       "      <td>8.860</td>\n",
       "      <td>9.197414</td>\n",
       "      <td>8.870848</td>\n",
       "      <td>8.960146</td>\n",
       "      <td>8.935595</td>\n",
       "      <td>8.941221</td>\n",
       "      <td>9.069761</td>\n",
       "    </tr>\n",
       "    <tr>\n",
       "      <th>2022-12-20</th>\n",
       "      <th>2171.0</th>\n",
       "      <td>8.725</td>\n",
       "      <td>9.192713</td>\n",
       "      <td>8.865129</td>\n",
       "      <td>8.955490</td>\n",
       "      <td>8.922008</td>\n",
       "      <td>8.936120</td>\n",
       "      <td>9.011143</td>\n",
       "    </tr>\n",
       "    <tr>\n",
       "      <th>2022-12-21</th>\n",
       "      <th>2172.0</th>\n",
       "      <td>8.855</td>\n",
       "      <td>9.189353</td>\n",
       "      <td>8.864732</td>\n",
       "      <td>8.953500</td>\n",
       "      <td>8.917685</td>\n",
       "      <td>8.933130</td>\n",
       "      <td>8.954367</td>\n",
       "    </tr>\n",
       "    <tr>\n",
       "      <th>2022-12-22</th>\n",
       "      <th>2173.0</th>\n",
       "      <td>8.805</td>\n",
       "      <td>9.185529</td>\n",
       "      <td>8.862389</td>\n",
       "      <td>8.950559</td>\n",
       "      <td>8.910415</td>\n",
       "      <td>8.930921</td>\n",
       "      <td>8.903124</td>\n",
       "    </tr>\n",
       "    <tr>\n",
       "      <th>2022-12-23</th>\n",
       "      <th>2174.0</th>\n",
       "      <td>8.835</td>\n",
       "      <td>9.182041</td>\n",
       "      <td>8.861315</td>\n",
       "      <td>8.948271</td>\n",
       "      <td>8.905549</td>\n",
       "      <td>8.929971</td>\n",
       "      <td>8.859814</td>\n",
       "    </tr>\n",
       "  </tbody>\n",
       "</table>\n",
       "</div>"
      ],
      "text/plain": [
       "                     Close   EMA_200    EMA_50   EMA_100    EMA_30    Kalman  \\\n",
       "Date       position                                                            \n",
       "2022-12-19 2170.0    8.860  9.197414  8.870848  8.960146  8.935595  8.941221   \n",
       "2022-12-20 2171.0    8.725  9.192713  8.865129  8.955490  8.922008  8.936120   \n",
       "2022-12-21 2172.0    8.855  9.189353  8.864732  8.953500  8.917685  8.933130   \n",
       "2022-12-22 2173.0    8.805  9.185529  8.862389  8.950559  8.910415  8.930921   \n",
       "2022-12-23 2174.0    8.835  9.182041  8.861315  8.948271  8.905549  8.929971   \n",
       "\n",
       "                         hull  \n",
       "Date       position            \n",
       "2022-12-19 2170.0    9.069761  \n",
       "2022-12-20 2171.0    9.011143  \n",
       "2022-12-21 2172.0    8.954367  \n",
       "2022-12-22 2173.0    8.903124  \n",
       "2022-12-23 2174.0    8.859814  "
      ]
     },
     "execution_count": 29,
     "metadata": {},
     "output_type": "execute_result"
    }
   ],
   "source": [
    "df.tail()\n"
   ]
  },
  {
   "cell_type": "markdown",
   "id": "348cbcdb-72e7-486f-a71d-a585f361eb17",
   "metadata": {},
   "source": [
    "pred_gapp = np.zeros(n_past+n_future)\n",
    "muestra_gapp =[]\n",
    "xx=[]\n",
    "\n",
    "muestreo=20  # minimo 20\n",
    "gapmuestras=np.zeros(muestreo-n_past)\n",
    "gapprevion=np.zeros(n_future)\n",
    "gappostprevison= np.zeros(muestreo-n_future-n_past)\n",
    "\n",
    "for ii in range (len(gapmuestras)):\n",
    "    gapmuestras[ii] = np.nan\n",
    "for ii in range (len(gapprevion)):\n",
    "    gapprevion[ii] = np.nan\n",
    "for ii in range (len(gappostprevison)):\n",
    "    gappostprevison[ii] = np.nan \n",
    "for ii in range (len(pred_gapp)):\n",
    "    pred_gapp[ii] = np.nan      \n",
    "\n",
    "\n",
    "##inicio= np.zeros(n_future+n_past)    \n",
    "##origen=n_past+n_future\n",
    "\n",
    "\n",
    "for i in range(len(trainX_test)-200, len(trainX_test), muestreo):\n",
    "    \n",
    "    prediction = model.predict(trainX_test[i-n_past:i])\n",
    "    prediction.shape = (n_past)   #me devuleve 15//n_past previsiones a 6//n_future dias vista\n",
    "    pred_gapp=np.concatenate((pred_gapp, prediction), axis=0)  #predcicion son n_past... en un futuro de n_futre muestras\n",
    "    pred_gapp=np.concatenate((pred_gapp, gapmuestras), axis=0)\n",
    "\n",
    "    ## MAL   xx=(trainX_test[i-n_past:i,0,hull_col])\n",
    "    xx=(trainX_test[i-n_past,-n_past:,hull_col])\n",
    "    \n",
    "    ## MAL xx=(trainXX[-n_past:,0,hull_col]) ## Mal porque coje el primer elemento de cada uno de los tramos... parecido pero mal\n",
    "    ##xx= trainXX[-1:, -n_past:, hull_col]  # coje el ultimo tramo de datos \n",
    "    xx.shape = ( n_past)\n",
    "    \n",
    "\n",
    "    \n",
    "    muestra_gapp=np.concatenate((muestra_gapp, xx  ), axis=0)\n",
    "    muestra_gapp=np.concatenate((muestra_gapp, gapmuestras), axis=0)\n",
    "   \n"
   ]
  },
  {
   "cell_type": "code",
   "execution_count": 30,
   "id": "b666a940",
   "metadata": {},
   "outputs": [
    {
     "data": {
      "text/plain": [
       "array([], dtype=float64)"
      ]
     },
     "execution_count": 30,
     "metadata": {},
     "output_type": "execute_result"
    }
   ],
   "source": [
    "### len(trainX_test)  # 1233\n",
    "##prediction\n",
    "trainX_test[1233-n_past:1233, -1, hull_col]"
   ]
  },
  {
   "cell_type": "markdown",
   "id": "25d41081-1889-450c-8789-936f2fed503a",
   "metadata": {},
   "source": [
    "yy2y=trainX_test[len(trainX_test)-200-14:(len(trainX_test)),0,0]\n",
    "            #yy2y.shape = (len(df_for_training_scaled[0]) )\n",
    "plt.plot(yy2y, label='curva Close',color='lightblue')\n",
    "\n",
    "yyy=trainX_test[len(trainX_test)-200-14:(len(trainX_test)),0,hull_col]\n",
    "            #yyy.shape = (df_for_training_scaled.shape[0] )\n",
    "plt.plot(yyy, label='curva REAL',color='pink')\n",
    "\n",
    "plt.plot(muestra_gapp, color='red',label='datos origen Prediccion')\n",
    "plt.plot(pred_gapp, color='lightgreen', label='Predicción')\n",
    "plt.title(instrumento)\n",
    "plt.legend()\n",
    "plt.show()"
   ]
  },
  {
   "cell_type": "markdown",
   "id": "efb4ce22",
   "metadata": {},
   "source": [
    "## Preparo los datos para la predicción final"
   ]
  },
  {
   "cell_type": "markdown",
   "id": "cb6e726b-5657-4531-8bdf-915c575eb83d",
   "metadata": {},
   "source": [
    "for i in range(n_past, len(df_for_training_scaled) ):\n",
    "    ## en este caso Append añade un elemento que es un array de dos dimensiones.\n",
    "    trainXX.append( df_for_training_scaled[ i - n_past : i ,  0:df_for_training.shape[1]]) \n",
    "trainXX = np.array(trainXX)\n",
    "    \n",
    "pred_gapp = np.zeros(n_past+n_future)\n",
    "muestra_gapp =[]\n",
    "xx=[]\n",
    "\n",
    "muestreo=30  # minimo 20\n",
    "gapmuestras=np.zeros(muestreo-n_past)\n",
    "gapprevion=np.zeros(n_future)\n",
    "gappostprevison= np.zeros(muestreo-n_future-n_past)\n",
    "\n",
    "for ii in range (len(gapmuestras)):\n",
    "    gapmuestras[ii] = np.nan\n",
    "for ii in range (len(gapprevion)):\n",
    "    gapprevion[ii] = np.nan\n",
    "for ii in range (len(gappostprevison)):\n",
    "    gappostprevison[ii] = np.nan  \n",
    "for ii in range (len(pred_gapp)):\n",
    "    pred_gapp[ii] = np.nan  \n",
    "\n",
    "prediction = model.predict(trainXX[-n_past:])\n",
    "prediction.shape = (n_past)   #me devuleve 14//n_past previsiones a 6//n_future dias vista desde la ultima referencia\n",
    "pred_gapp=np.concatenate((pred_gapp, prediction), axis=0)  #predcicion son n_past... en un futuro de n_futre muestras\n",
    "pred_gapp=np.concatenate((pred_gapp, gapmuestras), axis=0)\n",
    "\n",
    "## MAL xx=(trainXX[-n_past:,0,hull_col]) ## Mal porque coje el primer elemento de cada uno de los tramos... parecido pero mal\n",
    "xx= trainXX[-1:, -n_past:, hull_col]  # coje el ultimo tramo de datos \n",
    "xx.shape = ( n_past)\n",
    "muestra_gapp=np.concatenate((muestra_gapp, xx  ), axis=0)\n",
    "muestra_gapp=np.concatenate((muestra_gapp, gapmuestras), axis=0)\n",
    "\n"
   ]
  },
  {
   "cell_type": "code",
   "execution_count": 86,
   "id": "8ea3cba7-968d-40e0-adb1-21bd0c89c878",
   "metadata": {},
   "outputs": [
    {
     "name": "stdout",
     "output_type": "stream",
     "text": [
      "1/1 [==============================] - 0s 98ms/step\n"
     ]
    }
   ],
   "source": [
    "##########################################################################################\n",
    "# ## Preparo los datos para la predicción final\n",
    "\n",
    "# In[33]:\n",
    "trainXFinal = []\n",
    "trainYFinal = []\n",
    "\n",
    "\n",
    "#for i in range(-n_past, len(df_for_training_scaled) ):   #cambio n_past por -n_past\n",
    "\"\"\"\n",
    "for i in range (n_past):\n",
    "    ## en este caso Append añade un elemento que es un array de dos dimensiones.\n",
    "    trainXFinal.append( df_for_training_scaled[ i - n_past : i ,  0:df_for_training.shape[1]]) \n",
    "trainXFinal = np.array(trainXFinal)\n",
    "\"\"\"    \n",
    "\n",
    "pred_gappo = np.zeros(n_past+n_future)\n",
    "muestra_gappo =[]\n",
    "gapmuestraso =[]\n",
    "gappreviono=[]\n",
    "xxx=[]\n",
    "\n",
    "muestreo=30  # minimo 20\n",
    "gapmuestraso=np.zeros(muestreo-n_past)\n",
    "gappreviono=np.zeros(n_future)\n",
    "gappostprevisono= np.zeros(muestreo-n_future-n_past)\n",
    "\n",
    "for ii in range (len(gapmuestraso)):\n",
    "    gapmuestraso[ii] = np.nan\n",
    "for ii in range (len(gappreviono)):\n",
    "    gappreviono[ii] = np.nan\n",
    "for ii in range (len(gappostprevisono)):\n",
    "    gappostprevisono[ii] = np.nan  \n",
    "for ii in range (len(pred_gappo)):\n",
    "    pred_gappo[ii] = np.nan  \n",
    "\n",
    "        ##j#prediction = model.predict(trainXFinal[-n_past:])\n",
    "\n",
    "predictiono = model.predict(trainX_test[-n_past:])  #trainX_test[-1:, -n_past:, hull_col]\n",
    "predictiono.shape = (n_past)   #me devuleve 14//n_past previsiones a 6//n_future dias vista desde la ultima referencia\n",
    "pred_gappo=np.concatenate((pred_gappo, predictiono), axis=0)  #predcicion son n_past... en un futuro de n_futre muestras\n",
    "##pred_gapp=np.concatenate((pred_gapp, gapmuestras), axis=0)  #sobra?\n",
    "\n",
    "\n",
    "## MAL xx=(trainXX[-n_past:,0,hull_col]) ## Mal porque coje el primer elemento de cada uno de los tramos... parecido pero mal\n",
    "xxx= trainX_test[-1:, -n_past:, hull_col]  # coje el ultimo tramo de datos \n",
    "xxx.shape = ( n_past)\n",
    "muestra_gappo=np.concatenate((muestra_gappo, xxx  ), axis=0)\n",
    "#muestra_gappo=np.concatenate((muestra_gappo, gapmuestras), axis=0)\n",
    "\n",
    "\n",
    "\n",
    "# %matplotlib widget"
   ]
  },
  {
   "cell_type": "markdown",
   "id": "8c4690b9-f790-4f20-92e7-9e45f2368d3c",
   "metadata": {},
   "source": [
    "%matplotlib widget"
   ]
  },
  {
   "cell_type": "code",
   "execution_count": 87,
   "id": "995b4e46-bbed-4cdb-a1be-9fdd0b9056d8",
   "metadata": {},
   "outputs": [
    {
     "data": {
      "text/plain": [
       "array([[-0.90269295]])"
      ]
     },
     "execution_count": 87,
     "metadata": {},
     "output_type": "execute_result"
    }
   ],
   "source": [
    "trainX_test[-1:, -1:, hull_col] "
   ]
  },
  {
   "cell_type": "code",
   "execution_count": 89,
   "id": "44a09c44",
   "metadata": {},
   "outputs": [
    {
     "data": {
      "image/png": "[encoded data removed]",
      "text/plain": [
       "<Figure size 640x480 with 1 Axes>"
      ]
     },
     "metadata": {},
     "output_type": "display_data"
    },
    {
     "data": {
      "text/plain": [
       "' \\n x_test, y = next(test_dataset.as_numpy_iterator())\\ny_pred = model.predict(x_test)\\nplt.figure(figsize=(18, 6))\\nplt.plot(y[:, 0, 0])\\nplt.plot(y_pred[:, 0, 0])   \\n'"
      ]
     },
     "execution_count": 89,
     "metadata": {},
     "output_type": "execute_result"
    }
   ],
   "source": [
    "##Plot\n",
    "yy2y=trainX_test[-n_past:,-1,0]\n",
    "            #yy2y.shape = (len(df_for_training_scaled[0]) )\n",
    "plt.plot(yy2y, label='curva Close',color='lightblue')\n",
    "\n",
    "\n",
    "yyy=trainX_test[-n_past:,-1,hull_col]                    ###\n",
    "#yyy= trainX_test[-1:, -n_past:, hull_col] \n",
    "\n",
    "yyy.shape = ( n_past)\n",
    "plt.plot(yyy, label='curva MEDIA (referencia)',color='pink')\n",
    "\n",
    "plt.plot(muestra_gappo, color='red',label='datos origen Prediccion .. Hulk')\n",
    "\n",
    "plt.plot(pred_gappo, color='lightgreen', label='Predicción')\n",
    "plt.title(instrumento) \n",
    "plt.legend()\n",
    "\n",
    "##if (pdf_flag == True):\n",
    "##    plt.savefig(instrumento+\"2.pdf\")\n",
    "\n",
    "plt.show()\n",
    "\n",
    "\"\"\" \n",
    " x_test, y = next(test_dataset.as_numpy_iterator())\n",
    "y_pred = model.predict(x_test)\n",
    "plt.figure(figsize=(18, 6))\n",
    "plt.plot(y[:, 0, 0])\n",
    "plt.plot(y_pred[:, 0, 0])   \n",
    "\"\"\""
   ]
  },
  {
   "cell_type": "code",
   "execution_count": 60,
   "id": "db4c47bc-4efb-4a75-8f53-8ffa9368cf6b",
   "metadata": {},
   "outputs": [
    {
     "data": {
      "text/plain": [
       "array([-0.9520353 , -0.9728726 , -1.02107921, -1.03672979, -0.9580184 ,\n",
       "       -0.93051758, -0.92989947])"
      ]
     },
     "execution_count": 60,
     "metadata": {},
     "output_type": "execute_result"
    }
   ],
   "source": [
    "df_for_training_scaled[-1]"
   ]
  },
  {
   "cell_type": "code",
   "execution_count": 65,
   "id": "d890bdf5-9e3a-4ae4-a88b-be2a9cfdbb1e",
   "metadata": {},
   "outputs": [],
   "source": [
    "ddf = pd.DataFrame(df_for_training_scaled)"
   ]
  },
  {
   "cell_type": "code",
   "execution_count": 79,
   "id": "917fbf29-ee5c-4d9b-b714-55bb54ccfa75",
   "metadata": {},
   "outputs": [
    {
     "data": {
      "text/plain": [
       "<bound method NDFrame.tail of              0         1         2         3         4         5         6\n",
       "0     0.483668 -0.785451  0.061767 -0.327621  0.263111  0.378699  0.492028\n",
       "1     0.623120 -0.769560  0.085158 -0.307187  0.287619  0.379402  0.506465\n",
       "2     0.712368 -0.752657  0.111402 -0.285112  0.316569  0.377396  0.540617\n",
       "3     0.706790 -0.735996  0.136382 -0.263603  0.343275  0.371731  0.583933\n",
       "4     0.762571 -0.718770  0.162739 -0.241239  0.372023  0.362408  0.634204\n",
       "...        ...       ...       ...       ...       ...       ...       ...\n",
       "1972 -0.936210 -0.960061 -1.014577 -1.028025 -0.938123 -0.923087 -0.798013\n",
       "1973 -1.021666 -0.963978 -1.018478 -1.031438 -0.947120 -0.926456 -0.834836\n",
       "1974 -0.939375 -0.966779 -1.018749 -1.032897 -0.949983 -0.928431 -0.870503\n",
       "1975 -0.971025 -0.969966 -1.020347 -1.035052 -0.954797 -0.929890 -0.902693\n",
       "1976 -0.952035 -0.972873 -1.021079 -1.036730 -0.958018 -0.930518 -0.929899\n",
       "\n",
       "[1977 rows x 7 columns]>"
      ]
     },
     "execution_count": 79,
     "metadata": {},
     "output_type": "execute_result"
    }
   ],
   "source": [
    "ddf.tail"
   ]
  },
  {
   "cell_type": "code",
   "execution_count": 84,
   "id": "1d1aee4f",
   "metadata": {
    "scrolled": true
   },
   "outputs": [
    {
     "data": {
      "text/plain": [
       "array([-0.84210619, -0.84888626, -0.85131943, -0.85684817, -0.8573295 ,\n",
       "       -0.85772759, -0.8441636 , -0.81369334, -0.78402016, -0.78128555,\n",
       "       -0.79801336, -0.83483635, -0.87050266, -0.90269295])"
      ]
     },
     "execution_count": 84,
     "metadata": {},
     "output_type": "execute_result"
    }
   ],
   "source": [
    "trainX_test[-n_past:,-1,hull_col] #,0,hull_col]\n",
    "#trainX_test[-1:, -n_past:, hull_col]"
   ]
  },
  {
   "cell_type": "code",
   "execution_count": 38,
   "id": "f6f49fc2",
   "metadata": {},
   "outputs": [
    {
     "data": {
      "text/plain": [
       "array([-0.76888057, -0.75297859, -0.75129267, -0.74953345, -0.74469774,\n",
       "       -0.74443914, -0.74189008, -0.74213742, -0.74657979, -0.75312015,\n",
       "       -0.77331233, -0.79955906, -0.8271156 , -0.84210619])"
      ]
     },
     "execution_count": 38,
     "metadata": {},
     "output_type": "execute_result"
    }
   ],
   "source": [
    "trainX_test[-n_past:(len(trainXX)),0,hull_col]  #mall"
   ]
  },
  {
   "cell_type": "code",
   "execution_count": 39,
   "id": "e18a3f1d",
   "metadata": {},
   "outputs": [
    {
     "data": {
      "text/plain": [
       "array([0.0542155 , 0.03388005, 0.02865462, 0.03712892, 0.04774564,\n",
       "       0.0501004 , 0.04386055, 0.03981433, 0.03535964, 0.03142079,\n",
       "       0.02801258, 0.02582598, 0.02013274, 0.0133266 ], dtype=float32)"
      ]
     },
     "execution_count": 39,
     "metadata": {},
     "output_type": "execute_result"
    }
   ],
   "source": [
    "prediction"
   ]
  },
  {
   "cell_type": "code",
   "execution_count": 40,
   "id": "b5fb9252",
   "metadata": {},
   "outputs": [],
   "source": [
    "#trainXX[-n_past:]"
   ]
  },
  {
   "cell_type": "code",
   "execution_count": 41,
   "id": "dc0f223e",
   "metadata": {},
   "outputs": [],
   "source": [
    "## Save model\n",
    "#https://machinelearningmastery.com/save-load-keras-deep-learning-models/"
   ]
  },
  {
   "cell_type": "code",
   "execution_count": null,
   "id": "63669036",
   "metadata": {},
   "outputs": [],
   "source": []
  },
  {
   "cell_type": "markdown",
   "id": "99455277-2220-400c-95fc-c24b56f12130",
   "metadata": {},
   "source": [
    "## Busco divergencia Predicción versus Actual"
   ]
  },
  {
   "cell_type": "code",
   "execution_count": 43,
   "id": "efe7be0c-1cdc-4263-a74a-bbd83b97140c",
   "metadata": {},
   "outputs": [],
   "source": [
    "fd= pd.DataFrame(pred_gappo, columns =['1'])"
   ]
  },
  {
   "cell_type": "code",
   "execution_count": 44,
   "id": "8af7f8a3-68da-4bfd-990c-915e3ff4893a",
   "metadata": {},
   "outputs": [],
   "source": [
    "#fd.tail()"
   ]
  },
  {
   "cell_type": "code",
   "execution_count": 45,
   "id": "8b953742-2cf2-4234-97ca-537741e735d3",
   "metadata": {},
   "outputs": [
    {
     "name": "stdout",
     "output_type": "stream",
     "text": [
      "Coefficients: \n",
      " [-0.00061617]\n",
      "Independent term: \n",
      " -0.7812772716794696\n"
     ]
    }
   ],
   "source": [
    "#################################################### RegresionLineal()\n",
    "fd_pred= pd.DataFrame(pred_gappo[15:(15+n_past)], columns =['1'])   # Que es el 16???\n",
    "\n",
    "# 1.- Calculamos media de las ultimas sesiones y la regresion lineal\n",
    "coef_p, intercept_ =quant_j.linearRegresion_J3(fd_pred['1'],instrumento='_')"
   ]
  },
  {
   "cell_type": "markdown",
   "id": "9fe9e0b0-4fa0-4b29-a20d-b91fb0aa0cb2",
   "metadata": {},
   "source": [
    "pred_gapp[16:(16+n_past)]"
   ]
  },
  {
   "cell_type": "code",
   "execution_count": 47,
   "id": "d4fa6f73-b8b8-473b-849e-8158d62d33dd",
   "metadata": {},
   "outputs": [
    {
     "name": "stdout",
     "output_type": "stream",
     "text": [
      "Coefficients: \n",
      " [0.00036614]\n",
      "Independent term: \n",
      " -0.8411960128780875\n"
     ]
    }
   ],
   "source": [
    "#################################################### RegresionLineal()\n",
    "fd2_sample= pd.DataFrame(muestra_gappo[0:n_past], columns =['1'])   # Que es el 16???\n",
    "\n",
    "# 1.- Calculamos media de las ultimas sesiones y la regresion lineal\n",
    "coef2_s, intercept2_ =quant_j.linearRegresion_J3(fd2_sample['1'],instrumento='_')"
   ]
  },
  {
   "cell_type": "markdown",
   "id": "fc05b782-16f7-4c02-b0e0-4ca86dd9aa02",
   "metadata": {},
   "source": [
    "muestra_gapp[0:n_past]"
   ]
  },
  {
   "cell_type": "markdown",
   "id": "64b3e6a4-dd79-4e59-8cff-c00b11c545fa",
   "metadata": {},
   "source": [
    "### Divergencia??"
   ]
  },
  {
   "cell_type": "code",
   "execution_count": null,
   "id": "8d12a85b-f696-441d-a0a8-a977e253440f",
   "metadata": {},
   "outputs": [],
   "source": []
  },
  {
   "cell_type": "code",
   "execution_count": 48,
   "id": "db9328cc-aa0e-492d-895a-973db2e356a7",
   "metadata": {},
   "outputs": [
    {
     "name": "stdout",
     "output_type": "stream",
     "text": [
      " Ese intrumento no presenta divergencia mrl.mc\n"
     ]
    }
   ],
   "source": [
    "if((coef2_s * coef_p)<0):\n",
    "    if(coef_p >0):\n",
    "        print ('Invierte en ', instrumento)\n",
    "    print(' Ese intrumento no presenta divergencia', instrumento)\n",
    "else:\n",
    "    print(' Ese intrumento no presenta divergencia', instrumento)"
   ]
  },
  {
   "cell_type": "code",
   "execution_count": null,
   "id": "d0b8167c-45c2-4cf4-a0af-6183e3aa98f3",
   "metadata": {},
   "outputs": [],
   "source": []
  }
 ],
 "metadata": {
  "hide_input": false,
  "kernelspec": {
   "display_name": "Python 3 (ipykernel)",
   "language": "python",
   "name": "python3"
  },
  "language_info": {
   "codemirror_mode": {
    "name": "ipython",
    "version": 3
   },
   "file_extension": ".py",
   "mimetype": "text/x-python",
   "name": "python",
   "nbconvert_exporter": "python",
   "pygments_lexer": "ipython3",
   "version": "3.9.13"
  },
  "varInspector": {
   "cols": {
    "lenName": 16,
    "lenType": 16,
    "lenVar": 40
   },
   "kernels_config": {
    "python": {
     "delete_cmd_postfix": "",
     "delete_cmd_prefix": "del ",
     "library": "var_list.py",
     "varRefreshCmd": "print(var_dic_list())"
    },
    "r": {
     "delete_cmd_postfix": ") ",
     "delete_cmd_prefix": "rm(",
     "library": "var_list.r",
     "varRefreshCmd": "cat(var_dic_list()) "
    }
   },
   "position": {
    "height": "693.844px",
    "left": "835px",
    "right": "20px",
    "top": "318px",
    "width": "800px"
   },
   "types_to_exclude": [
    "module",
    "function",
    "builtin_function_or_method",
    "instance",
    "_Feature"
   ],
   "window_display": false
  }
 },
 "nbformat": 4,
 "nbformat_minor": 5
}
