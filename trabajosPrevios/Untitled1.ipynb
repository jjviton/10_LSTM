{
 "cells": [
  {
   "cell_type": "code",
   "execution_count": 1,
   "id": "4220ade0-1ddc-4753-81c9-fa7b2c612247",
   "metadata": {},
   "outputs": [],
   "source": [
    "import yfinance as yf"
   ]
  },
  {
   "cell_type": "code",
   "execution_count": 2,
   "id": "7eb7f61a-219b-4e3a-a88a-a8cee64d41a0",
   "metadata": {},
   "outputs": [],
   "source": [
    "#### FECHAS\n",
    "import datetime as dt\n",
    "#start =dt.datetime(2000,1,1)\n",
    "start =dt.datetime.today() - dt.timedelta(days=500)    #un año tiene 250 sesiones.\n",
    "#end = dt.datetime(2019,10,1)\n",
    "end= dt.datetime.today()  - dt.timedelta(days=1)        #Quito hoy para no ver el valor al ejecutar antes del cierre\n",
    "#end = '2022-9-15'  ##solo para pruebas ESte dia tengo varias señales"
   ]
  },
  {
   "cell_type": "code",
   "execution_count": 3,
   "id": "1d2ce8bc-ea25-4d1a-aefc-23f99374231f",
   "metadata": {},
   "outputs": [
    {
     "name": "stdout",
     "output_type": "stream",
     "text": [
      "[*********************100%***********************]  1 of 1 completed\n"
     ]
    }
   ],
   "source": [
    "df = yf.download('MSTF',start, end)"
   ]
  },
  {
   "cell_type": "code",
   "execution_count": 8,
   "id": "b5ded822-909d-47c7-b5a0-16a7e5807b32",
   "metadata": {},
   "outputs": [],
   "source": [
    "import datetime\n",
    "import pandas_datareader as pdr\n",
    "import pylab as plt\n",
    "start=datetime.datetime(2010,1,1)\n",
    "end=datetime.datetime(2021,12,31)\n",
    "df = pdr.DataReader('ticker=SAN.MC','econdb',start,end)"
   ]
  },
  {
   "cell_type": "code",
   "execution_count": 5,
   "id": "67cec74d-bf90-479c-85fa-2225e8323651",
   "metadata": {},
   "outputs": [
    {
     "data": {
      "text/html": [
       "<div>\n",
       "<style scoped>\n",
       "    .dataframe tbody tr th:only-of-type {\n",
       "        vertical-align: middle;\n",
       "    }\n",
       "\n",
       "    .dataframe tbody tr th {\n",
       "        vertical-align: top;\n",
       "    }\n",
       "\n",
       "    .dataframe thead th {\n",
       "        text-align: right;\n",
       "    }\n",
       "</style>\n",
       "<table border=\"1\" class=\"dataframe\">\n",
       "  <thead>\n",
       "    <tr style=\"text-align: right;\">\n",
       "      <th></th>\n",
       "      <th>SAN.MC</th>\n",
       "    </tr>\n",
       "    <tr>\n",
       "      <th>TIME_PERIOD</th>\n",
       "      <th></th>\n",
       "    </tr>\n",
       "  </thead>\n",
       "  <tbody>\n",
       "  </tbody>\n",
       "</table>\n",
       "</div>"
      ],
      "text/plain": [
       "Empty DataFrame\n",
       "Columns: [SAN.MC]\n",
       "Index: []"
      ]
     },
     "execution_count": 5,
     "metadata": {},
     "output_type": "execute_result"
    }
   ],
   "source": [
    "df.head()"
   ]
  },
  {
   "cell_type": "code",
   "execution_count": 6,
   "id": "a1bc58f3-1ff0-4fd9-a0fe-44f8560240d5",
   "metadata": {},
   "outputs": [],
   "source": [
    "df1=pdr.eurostat.EurostatReader('SAN')"
   ]
  },
  {
   "cell_type": "code",
   "execution_count": 7,
   "id": "d61fdc62-cfa1-4d1a-81ac-0bdf7e9cbd26",
   "metadata": {},
   "outputs": [
    {
     "name": "stdout",
     "output_type": "stream",
     "text": [
      "<pandas_datareader.eurostat.EurostatReader object at 0x000001F64530AD00>\n"
     ]
    }
   ],
   "source": [
    "print(df1)\n"
   ]
  },
  {
   "cell_type": "markdown",
   "id": "1ffee54a-210e-4449-b818-fdd77c136115",
   "metadata": {},
   "source": [
    "## dataLoger\n"
   ]
  },
  {
   "cell_type": "code",
   "execution_count": 13,
   "id": "fd67727b-349b-422f-88fe-a7eeb641e4ac",
   "metadata": {},
   "outputs": [],
   "source": [
    "import pandas as pd\n",
    "df2 = pd.DataFrame(columns=['instrumento', 'divergencia', 'fecha'])"
   ]
  },
  {
   "cell_type": "code",
   "execution_count": 16,
   "id": "2c574c84-ed4a-47c2-ae50-ff035f10648c",
   "metadata": {},
   "outputs": [],
   "source": [
    "instrumento = 'san'"
   ]
  },
  {
   "cell_type": "code",
   "execution_count": 17,
   "id": "d4ad1878-4016-4c85-983e-d5f55385cbcf",
   "metadata": {},
   "outputs": [
    {
     "name": "stderr",
     "output_type": "stream",
     "text": [
      "C:\\Users\\INNOVACION\\AppData\\Local\\Temp\\ipykernel_44492\\21890575.py:1: FutureWarning: The frame.append method is deprecated and will be removed from pandas in a future version. Use pandas.concat instead.\n",
      "  df2 = df2.append({'instrumento': instrumento, 'divergencia':'yes', 'gender':'Female'}, ignore_index=True)\n"
     ]
    }
   ],
   "source": [
    "df2 = df2.append({'instrumento': instrumento, 'divergencia':'yes', 'gender':'Female'}, ignore_index=True)"
   ]
  },
  {
   "cell_type": "code",
   "execution_count": 18,
   "id": "13fe821b-d3be-4f6a-8c30-9f0a189109b3",
   "metadata": {},
   "outputs": [
    {
     "data": {
      "text/html": [
       "<div>\n",
       "<style scoped>\n",
       "    .dataframe tbody tr th:only-of-type {\n",
       "        vertical-align: middle;\n",
       "    }\n",
       "\n",
       "    .dataframe tbody tr th {\n",
       "        vertical-align: top;\n",
       "    }\n",
       "\n",
       "    .dataframe thead th {\n",
       "        text-align: right;\n",
       "    }\n",
       "</style>\n",
       "<table border=\"1\" class=\"dataframe\">\n",
       "  <thead>\n",
       "    <tr style=\"text-align: right;\">\n",
       "      <th></th>\n",
       "      <th>instrumento</th>\n",
       "      <th>divergencia</th>\n",
       "      <th>fecha</th>\n",
       "      <th>gender</th>\n",
       "    </tr>\n",
       "  </thead>\n",
       "  <tbody>\n",
       "    <tr>\n",
       "      <th>0</th>\n",
       "      <td>san</td>\n",
       "      <td>yes</td>\n",
       "      <td>NaN</td>\n",
       "      <td>Female</td>\n",
       "    </tr>\n",
       "  </tbody>\n",
       "</table>\n",
       "</div>"
      ],
      "text/plain": [
       "  instrumento divergencia fecha  gender\n",
       "0         san         yes   NaN  Female"
      ]
     },
     "execution_count": 18,
     "metadata": {},
     "output_type": "execute_result"
    }
   ],
   "source": [
    "df2"
   ]
  },
  {
   "cell_type": "code",
   "execution_count": 1,
   "id": "95e4c998-f768-40c4-af49-45b843e0406f",
   "metadata": {},
   "outputs": [
    {
     "name": "stderr",
     "output_type": "stream",
     "text": [
      "WARNING:root:Watch out!\n"
     ]
    }
   ],
   "source": [
    "import logging\n",
    "logging.warning('Watch out!')  # will print a message to the console\n",
    "logging.info('I told you so')  # will not print anything"
   ]
  },
  {
   "cell_type": "code",
   "execution_count": 4,
   "id": "ac2df17a-f59d-47a4-9481-85c354d4c53b",
   "metadata": {},
   "outputs": [],
   "source": [
    "import logging\n",
    "logging.basicConfig(filename='test.txt', level=logging.DEBUG,encoding='utf-8',force=True)\n",
    "                    ##format='%(asctime)s:%(levelname)s:%(message)s')\n",
    "\n",
    "logging.warning('esto es una alerta')\n",
    "\n"
   ]
  },
  {
   "cell_type": "code",
   "execution_count": 1,
   "id": "1d69fc33-e157-4833-a583-8e633c81e2d1",
   "metadata": {},
   "outputs": [
    {
     "name": "stdout",
     "output_type": "stream",
     "text": [
      "[[ 1. -1.  2.]\n",
      " [ 2.  0.  0.]\n",
      " [ 0.  1. -1.]]\n",
      "[[ 0.         -1.          1.        ]\n",
      " [ 1.          0.         -0.33333333]\n",
      " [-1.          1.         -1.        ]]\n",
      "[[ 1. -1.  2.]\n",
      " [ 2.  0.  0.]\n",
      " [ 0.  1. -1.]]\n",
      "2.0\n"
     ]
    }
   ],
   "source": [
    "\n",
    "from sklearn import preprocessing\n",
    "import numpy as np\n",
    "X = np.array([[ 1., -1.,  2.],[ 2.,  0.,  0.],[ 0.,  1., -1.]])\n",
    "scaler= preprocessing.MinMaxScaler(feature_range=(-1, 1)).fit(X)\n",
    "X_scaled = scaler.transform(X)\n",
    "print(X)\n",
    "print(X_scaled)\n",
    "X1=scaler.inverse_transform(X_scaled)\n",
    "print(X1)\n",
    "print(X1[0, -1])\n",
    " "
   ]
  },
  {
   "cell_type": "code",
   "execution_count": null,
   "id": "1db3c11d-8529-4e80-b037-810570dc26a0",
   "metadata": {},
   "outputs": [],
   "source": []
  }
 ],
 "metadata": {
  "kernelspec": {
   "display_name": "Python 3 (ipykernel)",
   "language": "python",
   "name": "python3"
  },
  "language_info": {
   "codemirror_mode": {
    "name": "ipython",
    "version": 3
   },
   "file_extension": ".py",
   "mimetype": "text/x-python",
   "name": "python",
   "nbconvert_exporter": "python",
   "pygments_lexer": "ipython3",
   "version": "3.9.13"
  }
 },
 "nbformat": 4,
 "nbformat_minor": 5
}
